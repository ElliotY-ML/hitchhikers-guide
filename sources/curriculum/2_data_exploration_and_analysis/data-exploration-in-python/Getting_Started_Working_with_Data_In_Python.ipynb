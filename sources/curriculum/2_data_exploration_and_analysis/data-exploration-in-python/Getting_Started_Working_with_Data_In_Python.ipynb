{
 "cells": [
  {
   "cell_type": "markdown",
   "metadata": {},
   "source": [
    "# Background on Python, iPython, Jupyter and Pandas\n",
    "\n",
    "[Python](https://www.python.org/) is a high-level general purpose programming language named after a [British comedy troup](https://www.youtube.com/user/MontyPython), created by a [Dutch programmer as a hobby project](http://en.wikipedia.org/wiki/Guido_van_Rossum) and maintained by an international group of friendly but opinionated python enthusiasts (`import this!`). Until June 2018, Guido van Rossum was the [Benevolent dictator for life](https://en.wikipedia.org/wiki/Benevolent_dictator_for_life) for the Python language, now decisions are made jointly by the Python Steering Council.\n",
    "\n",
    "Python is popular for data science because it's powerful, fast, plays well with others, runs everywhere, is easy to learn, highly readable, and open. Because it's general purpose it can be used for full-stack development. It's got a growing list of useful libraries for scientitic programming, data manipulation, data analysis. (Numpy, Scipy, Pandas, Scikit-Learn, Statsmodels, Matplotlib, Pybrain, etc.)\n",
    "\n",
    "[iPython](http://ipython.org/) is an enhanced, interactive python interpreter started as a grad school project by [Fernando Perez](http://fperez.org/). iPython (jupyter) notebooks allow you to run a multi-language (Python, R, Julia, Markdown, LaTex, etc) interpreter in your browser to create rich, portable, and sharable code documents.\n",
    "\n",
    "[Pandas](http://pandas.pydata.org/) is a libary created by [Wes McKinney](http://blog.wesmckinney.com/) that introduces the R-like dataframe object to Python and makes working with data in Python a lot easier. It's also a lot more efficient than the R dataframe and pretty much makes Python superior to R in every imaginable way (except for ggplot 2). "
   ]
  },
  {
   "cell_type": "markdown",
   "metadata": {},
   "source": [
    "## Getting started with Jupyter (iPython) Notebooks\n",
    "\n",
    "To start up a Jupyter notebook server, simply navigate to the directory where you want the notebooks to be saved and run the command\n",
    "\n",
    "```\n",
    "jupyter notebook\n",
    "```\n",
    "\n",
    "A browser should open with a notebook navigator. Click the \"New\" button and select \"Python 3\".\n",
    "\n",
    "A beautiful blank notebook should open in a new tab\n",
    "\n",
    "Name the notebook by clicking on \"Untitled\" at the top of the page.\n",
    "\n",
    "Notebooks are squences of cells. Cells can be markdown, code, or raw text. Change the first cell to markdown and briefly describe what you are going to do in the notebook. "
   ]
  },
  {
   "cell_type": "markdown",
   "metadata": {},
   "source": [
    "## Getting started with Pandas\n",
    "\n",
    "We start by importing the libraries we're going to use: `pandas` and `matplotlib`"
   ]
  },
  {
   "cell_type": "code",
   "execution_count": 1,
   "metadata": {},
   "outputs": [],
   "source": [
    "# Import Statements\n",
    "import pandas as pd\n",
    "import numpy as np\n",
    "%matplotlib inline"
   ]
  },
  {
   "cell_type": "code",
   "execution_count": 2,
   "metadata": {},
   "outputs": [],
   "source": [
    "crimes = pd.read_csv('chicago_past_year_crimes.csv')"
   ]
  },
  {
   "cell_type": "markdown",
   "metadata": {},
   "source": [
    "## Loading data into a Pandas DataFrame\n",
    "\n",
    "So far we've been working with raw text files. That's one way to store and interact with data, but there are only a limited set of functions that can take as input raw text. Python has an amazing array of of data structures to work with that give you a lot of extra power in working with data. \n",
    "\n",
    "Built-in Data Structures\n",
    "- strings \"\"\n",
    "- lists []\n",
    "- tuples ()\n",
    "- sets {}\n",
    "- dictionaries {'key':value}\n",
    "\n",
    "Additional Essential Data Structures\n",
    "\n",
    "- numpy arrays ([])\n",
    "- pandas Series\n",
    "- pandas DataFrame\n",
    "- tensorflow Tensors\n",
    "\n",
    "\n",
    "Today we'll primarily be working with the pandas DataFrame. The pandas DataFrame is a two-dimensional size-mutable, potentially heterogeneous tabular data structure with labeled axes. It's basically a spreadsheet you can program and it's an incredibly useful Python object for data analysis. \n",
    "\n",
    "You can load data into a dataframe using Pandas' excellent `read_*` functions.\n",
    "\n",
    "We're going to try two of them: read_table & read_csv\n",
    "\n",
    "Pro tip: TAB COMPLETION!\n",
    "\n",
    "Pro tip: jupyter will pull the doc string for a command just by asking it a question.\n",
    "\n",
    "Pro tip: jupyter will give you the allowable arguments if you hit `shift + tab`"
   ]
  },
  {
   "cell_type": "markdown",
   "metadata": {},
   "source": [
    "## Viewing data in pandas\n",
    "\n",
    "There are lots of options for viewing data in pandas. Just like we did in the command line, you can use `head` and `tail` to get a quick view of our data."
   ]
  },
  {
   "cell_type": "code",
   "execution_count": 3,
   "metadata": {},
   "outputs": [
    {
     "data": {
      "text/html": [
       "<div>\n",
       "<style scoped>\n",
       "    .dataframe tbody tr th:only-of-type {\n",
       "        vertical-align: middle;\n",
       "    }\n",
       "\n",
       "    .dataframe tbody tr th {\n",
       "        vertical-align: top;\n",
       "    }\n",
       "\n",
       "    .dataframe thead th {\n",
       "        text-align: right;\n",
       "    }\n",
       "</style>\n",
       "<table border=\"1\" class=\"dataframe\">\n",
       "  <thead>\n",
       "    <tr style=\"text-align: right;\">\n",
       "      <th></th>\n",
       "      <th>CASE#</th>\n",
       "      <th>DATE  OF OCCURRENCE</th>\n",
       "      <th>BLOCK</th>\n",
       "      <th>IUCR</th>\n",
       "      <th>PRIMARY DESCRIPTION</th>\n",
       "      <th>SECONDARY DESCRIPTION</th>\n",
       "      <th>LOCATION DESCRIPTION</th>\n",
       "      <th>ARREST</th>\n",
       "      <th>DOMESTIC</th>\n",
       "      <th>BEAT</th>\n",
       "      <th>WARD</th>\n",
       "      <th>FBI CD</th>\n",
       "      <th>X COORDINATE</th>\n",
       "      <th>Y COORDINATE</th>\n",
       "      <th>LATITUDE</th>\n",
       "      <th>LONGITUDE</th>\n",
       "      <th>LOCATION</th>\n",
       "    </tr>\n",
       "  </thead>\n",
       "  <tbody>\n",
       "    <tr>\n",
       "      <th>0</th>\n",
       "      <td>JB241987</td>\n",
       "      <td>04/28/2018 10:05:00 PM</td>\n",
       "      <td>009XX N LONG AVE</td>\n",
       "      <td>2092</td>\n",
       "      <td>NARCOTICS</td>\n",
       "      <td>SOLICIT NARCOTICS ON PUBLICWAY</td>\n",
       "      <td>SIDEWALK</td>\n",
       "      <td>Y</td>\n",
       "      <td>N</td>\n",
       "      <td>1524</td>\n",
       "      <td>37.0</td>\n",
       "      <td>18</td>\n",
       "      <td>1140136.0</td>\n",
       "      <td>1905903.0</td>\n",
       "      <td>41.897895</td>\n",
       "      <td>-87.760744</td>\n",
       "      <td>(41.897894893, -87.760743714)</td>\n",
       "    </tr>\n",
       "    <tr>\n",
       "      <th>1</th>\n",
       "      <td>JA430240</td>\n",
       "      <td>09/06/2017 01:30:00 PM</td>\n",
       "      <td>032XX W 26TH ST</td>\n",
       "      <td>0810</td>\n",
       "      <td>THEFT</td>\n",
       "      <td>OVER $500</td>\n",
       "      <td>OTHER</td>\n",
       "      <td>Y</td>\n",
       "      <td>N</td>\n",
       "      <td>1024</td>\n",
       "      <td>12.0</td>\n",
       "      <td>06</td>\n",
       "      <td>1155313.0</td>\n",
       "      <td>1886555.0</td>\n",
       "      <td>41.844510</td>\n",
       "      <td>-87.705519</td>\n",
       "      <td>(41.844510467, -87.705519454)</td>\n",
       "    </tr>\n",
       "    <tr>\n",
       "      <th>2</th>\n",
       "      <td>JB241350</td>\n",
       "      <td>04/28/2018 08:00:00 AM</td>\n",
       "      <td>008XX E 53RD ST</td>\n",
       "      <td>1320</td>\n",
       "      <td>CRIMINAL DAMAGE</td>\n",
       "      <td>TO VEHICLE</td>\n",
       "      <td>STREET</td>\n",
       "      <td>N</td>\n",
       "      <td>N</td>\n",
       "      <td>233</td>\n",
       "      <td>5.0</td>\n",
       "      <td>14</td>\n",
       "      <td>1182892.0</td>\n",
       "      <td>1870055.0</td>\n",
       "      <td>41.798635</td>\n",
       "      <td>-87.604823</td>\n",
       "      <td>(41.798635468, -87.604823241)</td>\n",
       "    </tr>\n",
       "    <tr>\n",
       "      <th>3</th>\n",
       "      <td>JB245397</td>\n",
       "      <td>04/28/2018 09:00:00 AM</td>\n",
       "      <td>062XX S MICHIGAN AVE</td>\n",
       "      <td>0820</td>\n",
       "      <td>THEFT</td>\n",
       "      <td>$500 AND UNDER</td>\n",
       "      <td>RESIDENCE PORCH/HALLWAY</td>\n",
       "      <td>N</td>\n",
       "      <td>N</td>\n",
       "      <td>311</td>\n",
       "      <td>20.0</td>\n",
       "      <td>06</td>\n",
       "      <td>1178263.0</td>\n",
       "      <td>1863570.0</td>\n",
       "      <td>41.780946</td>\n",
       "      <td>-87.621995</td>\n",
       "      <td>(41.780946398, -87.621995369)</td>\n",
       "    </tr>\n",
       "    <tr>\n",
       "      <th>4</th>\n",
       "      <td>JB241444</td>\n",
       "      <td>04/28/2018 12:15:00 PM</td>\n",
       "      <td>046XX N ELSTON AVE</td>\n",
       "      <td>0890</td>\n",
       "      <td>THEFT</td>\n",
       "      <td>FROM BUILDING</td>\n",
       "      <td>SMALL RETAIL STORE</td>\n",
       "      <td>N</td>\n",
       "      <td>N</td>\n",
       "      <td>1722</td>\n",
       "      <td>39.0</td>\n",
       "      <td>06</td>\n",
       "      <td>1146646.0</td>\n",
       "      <td>1930549.0</td>\n",
       "      <td>41.965404</td>\n",
       "      <td>-87.736202</td>\n",
       "      <td>(41.965404069, -87.736202402)</td>\n",
       "    </tr>\n",
       "  </tbody>\n",
       "</table>\n",
       "</div>"
      ],
      "text/plain": [
       "      CASE#     DATE  OF OCCURRENCE                 BLOCK  IUCR  \\\n",
       "0  JB241987  04/28/2018 10:05:00 PM      009XX N LONG AVE  2092   \n",
       "1  JA430240  09/06/2017 01:30:00 PM       032XX W 26TH ST  0810   \n",
       "2  JB241350  04/28/2018 08:00:00 AM       008XX E 53RD ST  1320   \n",
       "3  JB245397  04/28/2018 09:00:00 AM  062XX S MICHIGAN AVE  0820   \n",
       "4  JB241444  04/28/2018 12:15:00 PM    046XX N ELSTON AVE  0890   \n",
       "\n",
       "   PRIMARY DESCRIPTION           SECONDARY DESCRIPTION  \\\n",
       "0            NARCOTICS  SOLICIT NARCOTICS ON PUBLICWAY   \n",
       "1                THEFT                       OVER $500   \n",
       "2      CRIMINAL DAMAGE                      TO VEHICLE   \n",
       "3                THEFT                  $500 AND UNDER   \n",
       "4                THEFT                   FROM BUILDING   \n",
       "\n",
       "      LOCATION DESCRIPTION ARREST DOMESTIC  BEAT  WARD FBI CD  X COORDINATE  \\\n",
       "0                 SIDEWALK      Y        N  1524  37.0     18     1140136.0   \n",
       "1                    OTHER      Y        N  1024  12.0     06     1155313.0   \n",
       "2                   STREET      N        N   233   5.0     14     1182892.0   \n",
       "3  RESIDENCE PORCH/HALLWAY      N        N   311  20.0     06     1178263.0   \n",
       "4       SMALL RETAIL STORE      N        N  1722  39.0     06     1146646.0   \n",
       "\n",
       "   Y COORDINATE   LATITUDE  LONGITUDE                       LOCATION  \n",
       "0     1905903.0  41.897895 -87.760744  (41.897894893, -87.760743714)  \n",
       "1     1886555.0  41.844510 -87.705519  (41.844510467, -87.705519454)  \n",
       "2     1870055.0  41.798635 -87.604823  (41.798635468, -87.604823241)  \n",
       "3     1863570.0  41.780946 -87.621995  (41.780946398, -87.621995369)  \n",
       "4     1930549.0  41.965404 -87.736202  (41.965404069, -87.736202402)  "
      ]
     },
     "execution_count": 3,
     "metadata": {},
     "output_type": "execute_result"
    }
   ],
   "source": [
    "# Look at the head of the dataframe\n",
    "crimes.head()"
   ]
  },
  {
   "cell_type": "code",
   "execution_count": 4,
   "metadata": {},
   "outputs": [
    {
     "data": {
      "text/html": [
       "<div>\n",
       "<style scoped>\n",
       "    .dataframe tbody tr th:only-of-type {\n",
       "        vertical-align: middle;\n",
       "    }\n",
       "\n",
       "    .dataframe tbody tr th {\n",
       "        vertical-align: top;\n",
       "    }\n",
       "\n",
       "    .dataframe thead th {\n",
       "        text-align: right;\n",
       "    }\n",
       "</style>\n",
       "<table border=\"1\" class=\"dataframe\">\n",
       "  <thead>\n",
       "    <tr style=\"text-align: right;\">\n",
       "      <th></th>\n",
       "      <th>CASE#</th>\n",
       "      <th>DATE  OF OCCURRENCE</th>\n",
       "      <th>BLOCK</th>\n",
       "      <th>IUCR</th>\n",
       "      <th>PRIMARY DESCRIPTION</th>\n",
       "      <th>SECONDARY DESCRIPTION</th>\n",
       "      <th>LOCATION DESCRIPTION</th>\n",
       "      <th>ARREST</th>\n",
       "      <th>DOMESTIC</th>\n",
       "      <th>BEAT</th>\n",
       "      <th>WARD</th>\n",
       "      <th>FBI CD</th>\n",
       "      <th>X COORDINATE</th>\n",
       "      <th>Y COORDINATE</th>\n",
       "      <th>LATITUDE</th>\n",
       "      <th>LONGITUDE</th>\n",
       "      <th>LOCATION</th>\n",
       "    </tr>\n",
       "  </thead>\n",
       "  <tbody>\n",
       "    <tr>\n",
       "      <th>261959</th>\n",
       "      <td>JA385552</td>\n",
       "      <td>08/10/2017 10:30:00 AM</td>\n",
       "      <td>048XX W IOWA ST</td>\n",
       "      <td>1310</td>\n",
       "      <td>CRIMINAL DAMAGE</td>\n",
       "      <td>TO PROPERTY</td>\n",
       "      <td>RESIDENCE</td>\n",
       "      <td>N</td>\n",
       "      <td>N</td>\n",
       "      <td>1531</td>\n",
       "      <td>37.0</td>\n",
       "      <td>14</td>\n",
       "      <td>1143912.0</td>\n",
       "      <td>1905538.0</td>\n",
       "      <td>41.896823</td>\n",
       "      <td>-87.746884</td>\n",
       "      <td>(41.8968233, -87.74688383)</td>\n",
       "    </tr>\n",
       "    <tr>\n",
       "      <th>261960</th>\n",
       "      <td>JA492228</td>\n",
       "      <td>10/30/2017 04:00:00 PM</td>\n",
       "      <td>072XX S SOUTH SHORE DR</td>\n",
       "      <td>0810</td>\n",
       "      <td>THEFT</td>\n",
       "      <td>OVER $500</td>\n",
       "      <td>APARTMENT</td>\n",
       "      <td>N</td>\n",
       "      <td>Y</td>\n",
       "      <td>334</td>\n",
       "      <td>7.0</td>\n",
       "      <td>06</td>\n",
       "      <td>1194878.0</td>\n",
       "      <td>1857803.0</td>\n",
       "      <td>41.764728</td>\n",
       "      <td>-87.561272</td>\n",
       "      <td>(41.764728045, -87.561272312)</td>\n",
       "    </tr>\n",
       "    <tr>\n",
       "      <th>261961</th>\n",
       "      <td>JA390514</td>\n",
       "      <td>08/13/2017 08:00:00 PM</td>\n",
       "      <td>039XX W VAN BUREN ST</td>\n",
       "      <td>0910</td>\n",
       "      <td>MOTOR VEHICLE THEFT</td>\n",
       "      <td>AUTOMOBILE</td>\n",
       "      <td>STREET</td>\n",
       "      <td>N</td>\n",
       "      <td>N</td>\n",
       "      <td>1132</td>\n",
       "      <td>24.0</td>\n",
       "      <td>07</td>\n",
       "      <td>1150218.0</td>\n",
       "      <td>1897735.0</td>\n",
       "      <td>41.875290</td>\n",
       "      <td>-87.723926</td>\n",
       "      <td>(41.875290412, -87.723926225)</td>\n",
       "    </tr>\n",
       "    <tr>\n",
       "      <th>261962</th>\n",
       "      <td>JA385930</td>\n",
       "      <td>08/10/2017 04:00:00 AM</td>\n",
       "      <td>071XX S WOLCOTT AVE</td>\n",
       "      <td>1305</td>\n",
       "      <td>CRIMINAL DAMAGE</td>\n",
       "      <td>CRIMINAL DEFACEMENT</td>\n",
       "      <td>RESIDENCE</td>\n",
       "      <td>N</td>\n",
       "      <td>N</td>\n",
       "      <td>735</td>\n",
       "      <td>17.0</td>\n",
       "      <td>14</td>\n",
       "      <td>1164921.0</td>\n",
       "      <td>1857378.0</td>\n",
       "      <td>41.764247</td>\n",
       "      <td>-87.671085</td>\n",
       "      <td>(41.764247182, -87.671084615)</td>\n",
       "    </tr>\n",
       "    <tr>\n",
       "      <th>261963</th>\n",
       "      <td>JA536019</td>\n",
       "      <td>12/02/2017 08:00:00 PM</td>\n",
       "      <td>083XX S INDIANA AVE</td>\n",
       "      <td>1320</td>\n",
       "      <td>CRIMINAL DAMAGE</td>\n",
       "      <td>TO VEHICLE</td>\n",
       "      <td>STREET</td>\n",
       "      <td>N</td>\n",
       "      <td>N</td>\n",
       "      <td>632</td>\n",
       "      <td>6.0</td>\n",
       "      <td>14</td>\n",
       "      <td>1179046.0</td>\n",
       "      <td>1849699.0</td>\n",
       "      <td>41.742865</td>\n",
       "      <td>-87.619547</td>\n",
       "      <td>(41.742865052, -87.619546732)</td>\n",
       "    </tr>\n",
       "  </tbody>\n",
       "</table>\n",
       "</div>"
      ],
      "text/plain": [
       "           CASE#     DATE  OF OCCURRENCE                   BLOCK  IUCR  \\\n",
       "261959  JA385552  08/10/2017 10:30:00 AM         048XX W IOWA ST  1310   \n",
       "261960  JA492228  10/30/2017 04:00:00 PM  072XX S SOUTH SHORE DR  0810   \n",
       "261961  JA390514  08/13/2017 08:00:00 PM    039XX W VAN BUREN ST  0910   \n",
       "261962  JA385930  08/10/2017 04:00:00 AM     071XX S WOLCOTT AVE  1305   \n",
       "261963  JA536019  12/02/2017 08:00:00 PM     083XX S INDIANA AVE  1320   \n",
       "\n",
       "        PRIMARY DESCRIPTION  SECONDARY DESCRIPTION  LOCATION DESCRIPTION  \\\n",
       "261959      CRIMINAL DAMAGE            TO PROPERTY             RESIDENCE   \n",
       "261960                THEFT              OVER $500             APARTMENT   \n",
       "261961  MOTOR VEHICLE THEFT             AUTOMOBILE                STREET   \n",
       "261962      CRIMINAL DAMAGE    CRIMINAL DEFACEMENT             RESIDENCE   \n",
       "261963      CRIMINAL DAMAGE             TO VEHICLE                STREET   \n",
       "\n",
       "       ARREST DOMESTIC  BEAT  WARD FBI CD  X COORDINATE  Y COORDINATE  \\\n",
       "261959      N        N  1531  37.0     14     1143912.0     1905538.0   \n",
       "261960      N        Y   334   7.0     06     1194878.0     1857803.0   \n",
       "261961      N        N  1132  24.0     07     1150218.0     1897735.0   \n",
       "261962      N        N   735  17.0     14     1164921.0     1857378.0   \n",
       "261963      N        N   632   6.0     14     1179046.0     1849699.0   \n",
       "\n",
       "         LATITUDE  LONGITUDE                       LOCATION  \n",
       "261959  41.896823 -87.746884     (41.8968233, -87.74688383)  \n",
       "261960  41.764728 -87.561272  (41.764728045, -87.561272312)  \n",
       "261961  41.875290 -87.723926  (41.875290412, -87.723926225)  \n",
       "261962  41.764247 -87.671085  (41.764247182, -87.671084615)  \n",
       "261963  41.742865 -87.619547  (41.742865052, -87.619546732)  "
      ]
     },
     "execution_count": 4,
     "metadata": {},
     "output_type": "execute_result"
    }
   ],
   "source": [
    "#Now try the same thing, but for the end of the dataframe, called the \"tail\". \n",
    "\n",
    "crimes.tail()"
   ]
  },
  {
   "cell_type": "markdown",
   "metadata": {},
   "source": [
    "What's the shape of the data?"
   ]
  },
  {
   "cell_type": "code",
   "execution_count": 5,
   "metadata": {},
   "outputs": [
    {
     "data": {
      "text/plain": [
       "(261964, 17)"
      ]
     },
     "execution_count": 5,
     "metadata": {},
     "output_type": "execute_result"
    }
   ],
   "source": [
    "crimes.shape"
   ]
  },
  {
   "cell_type": "markdown",
   "metadata": {},
   "source": [
    "What does this ^^ mean?\n",
    "\n",
    "Now, let's check out the datatypes using [.dtypes](http://pandas.pydata.org/pandas-docs/version/0.21/generated/pandas.DataFrame.dtypes.html)."
   ]
  },
  {
   "cell_type": "code",
   "execution_count": 6,
   "metadata": {},
   "outputs": [
    {
     "data": {
      "text/plain": [
       "CASE#                      object\n",
       "DATE  OF OCCURRENCE        object\n",
       "BLOCK                      object\n",
       " IUCR                      object\n",
       " PRIMARY DESCRIPTION       object\n",
       " SECONDARY DESCRIPTION     object\n",
       " LOCATION DESCRIPTION      object\n",
       "ARREST                     object\n",
       "DOMESTIC                   object\n",
       "BEAT                        int64\n",
       "WARD                      float64\n",
       "FBI CD                     object\n",
       "X COORDINATE              float64\n",
       "Y COORDINATE              float64\n",
       "LATITUDE                  float64\n",
       "LONGITUDE                 float64\n",
       "LOCATION                   object\n",
       "dtype: object"
      ]
     },
     "execution_count": 6,
     "metadata": {},
     "output_type": "execute_result"
    }
   ],
   "source": [
    "# Enter code to look at datatypes\n",
    "crimes.dtypes"
   ]
  },
  {
   "cell_type": "markdown",
   "metadata": {},
   "source": [
    "Pro tip: you'll notice that some commands have looked like pd.something(), some like data.something(), and some like data.something without (). The difference is a pandas function or class vs methods vs attributes. Methods are actions you take on a dataframe or series, while attributes are descriptors or the dataframe or series.\n"
   ]
  },
  {
   "cell_type": "markdown",
   "metadata": {},
   "source": [
    "## Modifying your dataframe\n",
    "\n",
    "Notice that we have some issues when it comes to our column names. Let's fix that by learning how to edit and delete columns."
   ]
  },
  {
   "cell_type": "code",
   "execution_count": 7,
   "metadata": {},
   "outputs": [
    {
     "data": {
      "text/plain": [
       "Index(['CASE#', 'DATE  OF OCCURRENCE', 'BLOCK', ' IUCR',\n",
       "       ' PRIMARY DESCRIPTION', ' SECONDARY DESCRIPTION',\n",
       "       ' LOCATION DESCRIPTION', 'ARREST', 'DOMESTIC', 'BEAT', 'WARD', 'FBI CD',\n",
       "       'X COORDINATE', 'Y COORDINATE', 'LATITUDE', 'LONGITUDE', 'LOCATION'],\n",
       "      dtype='object')"
      ]
     },
     "execution_count": 7,
     "metadata": {},
     "output_type": "execute_result"
    }
   ],
   "source": [
    "crimes.columns"
   ]
  },
  {
   "cell_type": "markdown",
   "metadata": {},
   "source": [
    "Notice that some of the column names have spaces at the start or end of the name. Let's remove those so that "
   ]
  },
  {
   "cell_type": "code",
   "execution_count": 8,
   "metadata": {},
   "outputs": [
    {
     "data": {
      "text/plain": [
       "Index(['CASE#', 'DATE  OF OCCURRENCE', 'BLOCK', 'IUCR', 'PRIMARY DESCRIPTION',\n",
       "       'SECONDARY DESCRIPTION', 'LOCATION DESCRIPTION', 'ARREST', 'DOMESTIC',\n",
       "       'BEAT', 'WARD', 'FBI CD', 'X COORDINATE', 'Y COORDINATE', 'LATITUDE',\n",
       "       'LONGITUDE', 'LOCATION'],\n",
       "      dtype='object')"
      ]
     },
     "execution_count": 8,
     "metadata": {},
     "output_type": "execute_result"
    }
   ],
   "source": [
    "# remove white spaces\n",
    "crimes.columns = crimes.columns.str.strip()\n",
    "crimes.columns"
   ]
  },
  {
   "cell_type": "code",
   "execution_count": null,
   "metadata": {
    "collapsed": true
   },
   "outputs": [],
   "source": [
    "# replacing spaces with underscore\n",
    "crimes.columns = crimes.columns.str.replace(' ', '_')\n",
    "crimes.columns"
   ]
  },
  {
   "cell_type": "code",
   "execution_count": null,
   "metadata": {
    "collapsed": true
   },
   "outputs": [],
   "source": [
    "# We'll should also remove the double occurence of \"_\" in DATE__OF_OCCURENCE. Do so below:\n",
    "\n",
    "# New Code here\n",
    "\n",
    "crimes.columns = crimes.columns.str.replace('__', '_')\n",
    "\n",
    "# crimes.columns"
   ]
  },
  {
   "cell_type": "markdown",
   "metadata": {},
   "source": [
    "The `LOCATION` Column seems redundant, seeing that we also have `X_COORDINATE` and `Y_COORDINATE` columns. \n",
    "\n",
    "Let's drop it using [.drop](https://pandas.pydata.org/pandas-docs/stable/generated/pandas.DataFrame.drop.html), axis=1 (for columns), and inplace=True."
   ]
  },
  {
   "cell_type": "code",
   "execution_count": null,
   "metadata": {
    "collapsed": true
   },
   "outputs": [],
   "source": [
    "# write code to drop column below:\n",
    "\n",
    "crimes.drop('LOCATION', axis=1, inplace=True)"
   ]
  },
  {
   "cell_type": "code",
   "execution_count": null,
   "metadata": {
    "collapsed": true
   },
   "outputs": [],
   "source": [
    "crimes.columns"
   ]
  },
  {
   "cell_type": "markdown",
   "metadata": {},
   "source": [
    "Task: Rename columns 'CASE#' to 'CASE_ID'.\n",
    "\n",
    "Hint: Google \"pandas rename column\""
   ]
  },
  {
   "cell_type": "markdown",
   "metadata": {},
   "source": [
    "## Describing the entire dataframe\n",
    "\n",
    "Now that we have columns, we want to get a better global view of our data. There are several ways "
   ]
  },
  {
   "cell_type": "code",
   "execution_count": null,
   "metadata": {
    "collapsed": true
   },
   "outputs": [],
   "source": [
    "crimes.describe()"
   ]
  },
  {
   "cell_type": "code",
   "execution_count": null,
   "metadata": {
    "collapsed": true
   },
   "outputs": [],
   "source": [
    "crimes.describe(include=['O'])"
   ]
  },
  {
   "cell_type": "code",
   "execution_count": null,
   "metadata": {
    "collapsed": true
   },
   "outputs": [],
   "source": [
    "crimes.isnull().sum()"
   ]
  },
  {
   "cell_type": "markdown",
   "metadata": {},
   "source": [
    "## Selecting and subsetting in pandas\n",
    "\n",
    "One of the biggest benefits of having a multi-index object like a DataFrame is the ability to easily select rows, columns, and subsets of the data. Let's learn how to do that.\n",
    "\n",
    "First we will select individual series from the dataframe."
   ]
  },
  {
   "cell_type": "code",
   "execution_count": null,
   "metadata": {
    "collapsed": true
   },
   "outputs": [],
   "source": [
    "crimes['PRIMARY_DESCRIPTION'].head()"
   ]
  },
  {
   "cell_type": "code",
   "execution_count": null,
   "metadata": {
    "collapsed": true
   },
   "outputs": [],
   "source": [
    "#using . notation\n",
    "crimes.PRIMARY_DESCRIPTION.head()"
   ]
  },
  {
   "cell_type": "code",
   "execution_count": null,
   "metadata": {
    "collapsed": true
   },
   "outputs": [],
   "source": [
    "# get value counts\n",
    "crimes.PRIMARY_DESCRIPTION.value_counts()"
   ]
  },
  {
   "cell_type": "code",
   "execution_count": null,
   "metadata": {
    "collapsed": true
   },
   "outputs": [],
   "source": [
    "# selecting two columns\n",
    "\n",
    "# enter code to select two columns. It will look something like: dataframe[[column 1, column 2]]\n",
    "crimes[['PRIMARY_DESCRIPTION', 'SECONDARY_DESCRIPTION']].head()"
   ]
  },
  {
   "cell_type": "code",
   "execution_count": null,
   "metadata": {
    "collapsed": true
   },
   "outputs": [],
   "source": [
    "#subset by row index\n",
    "crimes.PRIMARY_DESCRIPTION[3:10]"
   ]
  },
  {
   "cell_type": "code",
   "execution_count": null,
   "metadata": {
    "collapsed": true
   },
   "outputs": [],
   "source": [
    "crimes.PRIMARY_DESCRIPTION[5:16]"
   ]
  },
  {
   "cell_type": "code",
   "execution_count": null,
   "metadata": {
    "collapsed": true
   },
   "outputs": [],
   "source": [
    "#Use the iloc method \n",
    "crimes.iloc[10:20,4:6]"
   ]
  },
  {
   "cell_type": "markdown",
   "metadata": {},
   "source": [
    "### Now let's subset on row values."
   ]
  },
  {
   "cell_type": "code",
   "execution_count": null,
   "metadata": {
    "collapsed": true
   },
   "outputs": [],
   "source": [
    "#Create a boolean series based on a condition\n",
    "theft_bool = crimes['PRIMARY_DESCRIPTION']=='THEFT'\n",
    "theft_bool"
   ]
  },
  {
   "cell_type": "code",
   "execution_count": null,
   "metadata": {
    "collapsed": true
   },
   "outputs": [],
   "source": [
    "#now pass that series to the datafram to subset it\n",
    "theft = crimes[theft_bool]\n",
    "theft.head()"
   ]
  },
  {
   "cell_type": "code",
   "execution_count": null,
   "metadata": {
    "collapsed": true
   },
   "outputs": [],
   "source": [
    "#now pass that series to the datafram to subset it\n",
    "theft = crimes[crimes['PRIMARY_DESCRIPTION']=='THEFT']\n",
    "theft.head()"
   ]
  },
  {
   "cell_type": "code",
   "execution_count": null,
   "metadata": {
    "collapsed": true
   },
   "outputs": [],
   "source": [
    "## Now, create a dataframe that only has the subset of crimes with the primary description 'CRIMINAL DAMAGE'\n",
    "\n",
    "# code here:\n",
    "\n",
    "damage = crimes[crimes['PRIMARY_DESCRIPTION']=='CRIMINAL DAMAGE']\n",
    "damage.head()"
   ]
  },
  {
   "cell_type": "code",
   "execution_count": null,
   "metadata": {
    "collapsed": true
   },
   "outputs": [],
   "source": [
    "## Now try creating a dataframe that has the subset of crimes with the primary description CRIMINAL DAMAGE \n",
    "# and the secondary description TO PROPERTY\n",
    "\n",
    "# Will need to google how to use & operator with pandas\n",
    "\n",
    "crimes[(crimes['PRIMARY_DESCRIPTION']=='CRIMINAL DAMAGE')&(crimes['SECONDARY_DESCRIPTION']=='TO PROPERTY')].head()\n"
   ]
  },
  {
   "cell_type": "code",
   "execution_count": null,
   "metadata": {
    "collapsed": true
   },
   "outputs": [],
   "source": []
  },
  {
   "cell_type": "markdown",
   "metadata": {},
   "source": [
    "### Sorting"
   ]
  },
  {
   "cell_type": "code",
   "execution_count": null,
   "metadata": {
    "collapsed": true
   },
   "outputs": [],
   "source": [
    "theft.sort_values('DATE_OF_OCCURRENCE', inplace=True, ascending=False)\n",
    "theft.head()"
   ]
  },
  {
   "cell_type": "code",
   "execution_count": null,
   "metadata": {
    "collapsed": true
   },
   "outputs": [],
   "source": [
    "# For a quick check, let's also look at this where it is ascending\n",
    "\n",
    "# code here:\n",
    "theft.sort_values('DATE_OF_OCCURRENCE', inplace=True, ascending=True)\n"
   ]
  },
  {
   "cell_type": "code",
   "execution_count": null,
   "metadata": {
    "collapsed": true
   },
   "outputs": [],
   "source": [
    "theft.head()"
   ]
  },
  {
   "cell_type": "markdown",
   "metadata": {},
   "source": [
    "Hmmm. Something isn't right about how this is sorting. Let's look into it."
   ]
  },
  {
   "cell_type": "code",
   "execution_count": null,
   "metadata": {
    "collapsed": true
   },
   "outputs": [],
   "source": [
    "theft.dtypes"
   ]
  },
  {
   "cell_type": "markdown",
   "metadata": {},
   "source": [
    "Right now the dates are objects. To ensure they're handled correctly, they should be datetime. Let's fix that!"
   ]
  },
  {
   "cell_type": "code",
   "execution_count": null,
   "metadata": {
    "collapsed": true
   },
   "outputs": [],
   "source": [
    "theft.DATE_OF_OCCURRENCE = pd.to_datetime(theft.DATE_OF_OCCURRENCE)"
   ]
  },
  {
   "cell_type": "code",
   "execution_count": null,
   "metadata": {
    "collapsed": true
   },
   "outputs": [],
   "source": [
    "theft.head()"
   ]
  },
  {
   "cell_type": "code",
   "execution_count": null,
   "metadata": {
    "collapsed": true
   },
   "outputs": [],
   "source": [
    "theft.sort_values('DATE_OF_OCCURRENCE', inplace=True, ascending=True)\n",
    "theft.head()"
   ]
  },
  {
   "cell_type": "markdown",
   "metadata": {},
   "source": [
    "### loc vs iloc\n",
    "You can see that the row labels for the first 5 rows are NOT 0, 1, 2, 3, and 4. If we wanted to select the first five rows, we can use `DataFrame.iloc[]` method to select by position. If you want to select the rows with labels 0 through 4, you would use `DataFrame.loc[]`. \n",
    "\n",
    "The easy way to remember which is which is to remember that `iloc[]` stands for integer location, because you use integers and not labels to select the data."
   ]
  },
  {
   "cell_type": "code",
   "execution_count": null,
   "metadata": {
    "collapsed": true
   },
   "outputs": [],
   "source": [
    "#print the first five rows of theft data\n"
   ]
  },
  {
   "cell_type": "code",
   "execution_count": null,
   "metadata": {
    "collapsed": true
   },
   "outputs": [],
   "source": [
    "#print first ten rows of theft data\n"
   ]
  },
  {
   "cell_type": "code",
   "execution_count": null,
   "metadata": {
    "collapsed": true
   },
   "outputs": [],
   "source": [
    "#print the rows with index label 12\n"
   ]
  },
  {
   "cell_type": "code",
   "execution_count": null,
   "metadata": {
    "collapsed": true
   },
   "outputs": [],
   "source": [
    "# print the row at the fifth position\n"
   ]
  },
  {
   "cell_type": "markdown",
   "metadata": {},
   "source": [
    "## Applying functions to series and creating new columns"
   ]
  },
  {
   "cell_type": "code",
   "execution_count": null,
   "metadata": {
    "collapsed": true
   },
   "outputs": [],
   "source": [
    "scores = pd.read_csv('fandango_score_comparison.csv')"
   ]
  },
  {
   "cell_type": "code",
   "execution_count": null,
   "metadata": {
    "collapsed": true
   },
   "outputs": [],
   "source": [
    "scores.head()"
   ]
  },
  {
   "cell_type": "code",
   "execution_count": null,
   "metadata": {
    "collapsed": true
   },
   "outputs": [],
   "source": [
    "scores.describe()"
   ]
  },
  {
   "cell_type": "code",
   "execution_count": null,
   "metadata": {
    "collapsed": true
   },
   "outputs": [],
   "source": [
    "scores.info()"
   ]
  },
  {
   "cell_type": "code",
   "execution_count": null,
   "metadata": {
    "collapsed": true
   },
   "outputs": [],
   "source": [
    "scores.IMDB.mean()"
   ]
  },
  {
   "cell_type": "code",
   "execution_count": null,
   "metadata": {
    "collapsed": true
   },
   "outputs": [],
   "source": [
    "scores.IMDB.describe()"
   ]
  },
  {
   "cell_type": "code",
   "execution_count": null,
   "metadata": {
    "collapsed": true
   },
   "outputs": [],
   "source": [
    "# find the max of IMDB column\n",
    "\n",
    "max_IMDB = scores.IMDB.max()"
   ]
  },
  {
   "cell_type": "code",
   "execution_count": null,
   "metadata": {
    "collapsed": true
   },
   "outputs": [],
   "source": [
    "# find the min of the IMDB column\n",
    "\n",
    "min_IMDB = scores.IMDB.min()"
   ]
  },
  {
   "cell_type": "code",
   "execution_count": null,
   "metadata": {
    "collapsed": true
   },
   "outputs": [],
   "source": [
    "#Return the list of movies with the lowest score:\n",
    "\n",
    "scores[scores.IMDB == scores.IMDB.min()]"
   ]
  },
  {
   "cell_type": "code",
   "execution_count": null,
   "metadata": {
    "collapsed": true
   },
   "outputs": [],
   "source": [
    "# Return the list of movies with the highest score:\n",
    "\n",
    "\n"
   ]
  },
  {
   "cell_type": "code",
   "execution_count": null,
   "metadata": {
    "collapsed": true
   },
   "outputs": [],
   "source": [
    "# Movies with the highest RottenTomatoes rating\n",
    "\n"
   ]
  },
  {
   "cell_type": "code",
   "execution_count": null,
   "metadata": {
    "collapsed": true
   },
   "outputs": [],
   "source": [
    "# Movies with the lowest RottenTomatoes rating\n",
    "\n"
   ]
  },
  {
   "cell_type": "code",
   "execution_count": null,
   "metadata": {
    "collapsed": true
   },
   "outputs": [],
   "source": []
  },
  {
   "cell_type": "markdown",
   "metadata": {},
   "source": [
    "Now we can plot the series with ease!"
   ]
  },
  {
   "cell_type": "markdown",
   "metadata": {},
   "source": [
    "## Groupby!\n",
    "Groupby is a powerful method that makes it easy to peform operations on the dataframe by categorial values. Let's try generating a plot of min, max, and average temp over time."
   ]
  },
  {
   "cell_type": "code",
   "execution_count": null,
   "metadata": {
    "collapsed": true
   },
   "outputs": [],
   "source": [
    "crimes.groupby('PRIMARY_DESCRIPTION').size()"
   ]
  },
  {
   "cell_type": "code",
   "execution_count": null,
   "metadata": {
    "collapsed": true
   },
   "outputs": [],
   "source": [
    "crimes.groupby('BEAT').mean()"
   ]
  },
  {
   "cell_type": "code",
   "execution_count": null,
   "metadata": {
    "collapsed": true
   },
   "outputs": [],
   "source": []
  },
  {
   "cell_type": "code",
   "execution_count": null,
   "metadata": {
    "collapsed": true
   },
   "outputs": [],
   "source": [
    "# How would we do the same, but groupby both primary and sedondary description?\n",
    "\n",
    "crimes.groupby(['PRIMARY_DESCRIPTION', 'SECONDARY_DESCRIPTION']).size()"
   ]
  },
  {
   "cell_type": "code",
   "execution_count": null,
   "metadata": {
    "collapsed": true
   },
   "outputs": [],
   "source": []
  },
  {
   "cell_type": "code",
   "execution_count": null,
   "metadata": {
    "collapsed": true
   },
   "outputs": [],
   "source": [
    "crimes.head()"
   ]
  },
  {
   "cell_type": "code",
   "execution_count": null,
   "metadata": {
    "collapsed": true
   },
   "outputs": [],
   "source": []
  },
  {
   "cell_type": "markdown",
   "metadata": {},
   "source": [
    "### Let's group by year and month to look at data on a month to month basis."
   ]
  },
  {
   "cell_type": "code",
   "execution_count": null,
   "metadata": {
    "collapsed": true
   },
   "outputs": [],
   "source": [
    "crimes.DATE_OF_OCCURRENCE = pd.to_datetime(crimes.DATE_OF_OCCURRENCE)"
   ]
  },
  {
   "cell_type": "code",
   "execution_count": null,
   "metadata": {
    "collapsed": true
   },
   "outputs": [],
   "source": [
    "# Create a new year column\n",
    "crimes['year'] = crimes.DATE_OF_OCCURRENCE.map(lambda x: x.year)"
   ]
  },
  {
   "cell_type": "code",
   "execution_count": null,
   "metadata": {
    "collapsed": true
   },
   "outputs": [],
   "source": [
    "#Create a new month column\n",
    "\n",
    "# code here\n",
    "crimes['month'] = crimes.DATE_OF_OCCURRENCE.map(lambda x: x.month)"
   ]
  },
  {
   "cell_type": "code",
   "execution_count": null,
   "metadata": {
    "collapsed": true
   },
   "outputs": [],
   "source": [
    "crimes.head()"
   ]
  },
  {
   "cell_type": "code",
   "execution_count": null,
   "metadata": {
    "collapsed": true
   },
   "outputs": [],
   "source": [
    "# Groupby the new year and month columns\n",
    "\n",
    "month_year_crimes = crimes.groupby(['year', 'month']).size()"
   ]
  },
  {
   "cell_type": "code",
   "execution_count": null,
   "metadata": {
    "collapsed": true
   },
   "outputs": [],
   "source": [
    "type(month_year_crimes)"
   ]
  },
  {
   "cell_type": "markdown",
   "metadata": {},
   "source": [
    "Plots!!"
   ]
  },
  {
   "cell_type": "code",
   "execution_count": null,
   "metadata": {
    "collapsed": true
   },
   "outputs": [],
   "source": [
    "month_year_crimes.plot()"
   ]
  },
  {
   "cell_type": "code",
   "execution_count": null,
   "metadata": {
    "collapsed": true
   },
   "outputs": [],
   "source": [
    "month_year_crimes.hist()"
   ]
  },
  {
   "cell_type": "code",
   "execution_count": null,
   "metadata": {
    "collapsed": true
   },
   "outputs": [],
   "source": []
  }
 ],
 "metadata": {
  "kernelspec": {
   "display_name": "Python 3",
   "language": "python",
   "name": "python3"
  },
  "language_info": {
   "codemirror_mode": {
    "name": "ipython",
    "version": 3
   },
   "file_extension": ".py",
   "mimetype": "text/x-python",
   "name": "python",
   "nbconvert_exporter": "python",
   "pygments_lexer": "ipython3",
   "version": "3.8.5"
  }
 },
 "nbformat": 4,
 "nbformat_minor": 1
}
